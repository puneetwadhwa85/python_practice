{
 "cells": [
  {
   "cell_type": "code",
   "execution_count": 19,
   "metadata": {},
   "outputs": [],
   "source": [
    "import pandas as pd\n",
    "import numpy as np"
   ]
  },
  {
   "cell_type": "code",
   "execution_count": 20,
   "metadata": {},
   "outputs": [],
   "source": [
    "team='teen titans'"
   ]
  },
  {
   "cell_type": "code",
   "execution_count": 21,
   "metadata": {},
   "outputs": [],
   "source": [
    "def team_change():\n",
    "    global team\n",
    "    team='justice league'\n",
    "    print(team)"
   ]
  },
  {
   "cell_type": "code",
   "execution_count": 22,
   "metadata": {},
   "outputs": [
    {
     "name": "stdout",
     "output_type": "stream",
     "text": [
      "justice league\n",
      "justice league\n"
     ]
    }
   ],
   "source": [
    "team_change()\n",
    "print(team)"
   ]
  },
  {
   "cell_type": "code",
   "execution_count": 10,
   "metadata": {},
   "outputs": [
    {
     "name": "stdout",
     "output_type": "stream",
     "text": [
      "('a!!!', 'b!!!', 'c!!!')\n"
     ]
    }
   ],
   "source": [
    "def three_aug(word1, word2, word3):\n",
    "    def inner(word):\n",
    "        return word+'!!!'\n",
    "    return (inner(word1),inner(word2), inner(word3))\n",
    "print(three_aug('a','b','c'))\n",
    "    "
   ]
  },
  {
   "cell_type": "code",
   "execution_count": 26,
   "metadata": {},
   "outputs": [],
   "source": [
    "def check(n):\n",
    "    def check_1(word1):\n",
    "        word_no=word1*n\n",
    "        return word_no\n",
    "    twice=check(2)\n",
    "    thrice=check(3)\n",
    "    print(twice('hello'), thrice('hello'))"
   ]
  },
  {
   "cell_type": "code",
   "execution_count": 27,
   "metadata": {},
   "outputs": [],
   "source": [
    "def echo_shout(word):\n",
    "    echo_word=word*2\n",
    "    print(echo_word)"
   ]
  },
  {
   "cell_type": "code",
   "execution_count": 29,
   "metadata": {},
   "outputs": [
    {
     "ename": "SyntaxError",
     "evalue": "no binding for nonlocal 'echo_word' found (<ipython-input-29-449330ce73f4>, line 2)",
     "output_type": "error",
     "traceback": [
      "\u001b[1;36m  File \u001b[1;32m\"<ipython-input-29-449330ce73f4>\"\u001b[1;36m, line \u001b[1;32m2\u001b[0m\n\u001b[1;33m    nonlocal echo_word\u001b[0m\n\u001b[1;37m    ^\u001b[0m\n\u001b[1;31mSyntaxError\u001b[0m\u001b[1;31m:\u001b[0m no binding for nonlocal 'echo_word' found\n"
     ]
    }
   ],
   "source": [
    "def shout():\n",
    "    nonlocal echo_word\n",
    "    echo_word=echo_word+'!!!'\n",
    "    shout()\n",
    "    print(echo_word)"
   ]
  },
  {
   "cell_type": "code",
   "execution_count": 35,
   "metadata": {},
   "outputs": [
    {
     "name": "stdout",
     "output_type": "stream",
     "text": [
      "hey!!!\n",
      "heyheyheyheyhey!!!\n"
     ]
    }
   ],
   "source": [
    "def shout_echo(word1,echo=1):\n",
    "    echo_word=word1*echo\n",
    "    shout_word=echo_word+'!!!'\n",
    "    return shout_word\n",
    "no_echo=shout_echo(\"hey\")\n",
    "with_echo=shout_echo(\"hey\", echo=5)\n",
    "print(no_echo)\n",
    "print(with_echo)"
   ]
  },
  {
   "cell_type": "code",
   "execution_count": 40,
   "metadata": {},
   "outputs": [],
   "source": [
    "def shout_echo(word1, echo=1, intense=False):\n",
    "    echo_word=word1*echo\n",
    "    if intense is True:\n",
    "        echo_word_new = echo_word.upper() + '!!!'\n",
    "    else:\n",
    "        echo_word_new = echo_word + '!!!'\n",
    "        return echo_word_new\n",
    "        with_big_echo = shout_echo(\"Hey\",echo=5 ,intense=True)\n",
    "        big_no_echo = shout_echo(\"Hey\", intense=True)\n",
    "        print(with_big_echo)\n",
    "        print(big_no_echo)"
   ]
  },
  {
   "cell_type": "code",
   "execution_count": 59,
   "metadata": {},
   "outputs": [],
   "source": [
    "def gibberish(*args):\n",
    "    hodgepodge=\"\"\n",
    "    for word in args:\n",
    "        hodgepodge += word\n",
    "        return hodgepodge\n",
    "    one_word = gibberish(\"luke\")\n",
    "    many_words = gibberish(\"luke\", \"leia\", \"han\", \"obi\", \"darth\")\n",
    "    print(one_word)\n",
    "    print(many_words)"
   ]
  },
  {
   "cell_type": "code",
   "execution_count": 62,
   "metadata": {},
   "outputs": [],
   "source": [
    "def report_status(**kwargs):\n",
    "    print(\"\\nBEGIN: REPORT\\n\")\n",
    "    for key, value in kwargs.items():\n",
    "        print(key + \": \" + value)\n",
    "        print(\"\\nEND REPORT\")\n",
    "        report_status(name=\"luke\", affiliation=\"jedi\", status=\"missing\")\n",
    "        report_status(name=\"anakin\", affiliation=\"sith lord\", status=\"deceased\")"
   ]
  },
  {
   "cell_type": "code",
   "execution_count": 64,
   "metadata": {},
   "outputs": [
    {
     "ename": "SyntaxError",
     "evalue": "invalid syntax (<ipython-input-64-b1c7ffde5ada>, line 7)",
     "output_type": "error",
     "traceback": [
      "\u001b[1;36m  File \u001b[1;32m\"<ipython-input-64-b1c7ffde5ada>\"\u001b[1;36m, line \u001b[1;32m7\u001b[0m\n\u001b[1;33m    else:\u001b[0m\n\u001b[1;37m       ^\u001b[0m\n\u001b[1;31mSyntaxError\u001b[0m\u001b[1;31m:\u001b[0m invalid syntax\n"
     ]
    }
   ],
   "source": [
    "def count_entries(df,col_name='lang'):\n",
    "    cols_count = {}\n",
    "    col = df[col_name]\n",
    "    for entry in col:\n",
    "        if entry in cols_count.keys():\n",
    "            cols_count[entry] += 1\n",
    "            else:\n",
    "                cols_count[entry] = 1\n",
    "                return cols_count\n",
    "            result1 = count_entries(tweets_df,'lang')\n",
    "            result2 = count_entries(tweets_df,'source')\n",
    "            print(result1)\n",
    "            print(result2)"
   ]
  }
 ],
 "metadata": {
  "kernelspec": {
   "display_name": "Python 3",
   "language": "python",
   "name": "python3"
  },
  "language_info": {
   "codemirror_mode": {
    "name": "ipython",
    "version": 3
   },
   "file_extension": ".py",
   "mimetype": "text/x-python",
   "name": "python",
   "nbconvert_exporter": "python",
   "pygments_lexer": "ipython3",
   "version": "3.7.3"
  }
 },
 "nbformat": 4,
 "nbformat_minor": 2
}
